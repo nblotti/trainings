{
 "cells": [
  {
   "metadata": {
    "ExecuteTime": {
     "end_time": "2024-07-03T14:35:17.955124Z",
     "start_time": "2024-07-03T14:35:17.952071Z"
    }
   },
   "cell_type": "code",
   "source": [
    "from langchain_openai import AzureChatOpenAI\n",
    "from langchain.prompts import PromptTemplate\n",
    "from langchain.chains import LLMChain\n",
    "import os"
   ],
   "id": "3faa52958cf4b06d",
   "outputs": [],
   "execution_count": 12
  },
  {
   "metadata": {
    "ExecuteTime": {
     "end_time": "2024-07-03T14:35:17.966172Z",
     "start_time": "2024-07-03T14:35:17.956386Z"
    }
   },
   "cell_type": "code",
   "source": [
    "# SECURE THIS KEY!\n",
    "os.environ[\"AZURE_OPENAI_API_KEY\"] = \"\"\n",
    "os.environ[\"AZURE_OPENAI_CHAT_DEPLOYMENT_NAME\"] = \"\"\n",
    "os.environ[\"AZURE_OPENAI_API_VERSION\"] = \"\""
   ],
   "id": "2a203a80a79ee3ef",
   "outputs": [],
   "execution_count": 13
  },
  {
   "metadata": {
    "ExecuteTime": {
     "end_time": "2024-07-03T14:35:20.247574Z",
     "start_time": "2024-07-03T14:35:17.967625Z"
    }
   },
   "cell_type": "code",
   "source": [
    "\n",
    "llm = AzureChatOpenAI(\n",
    "    openai_api_version=os.environ[\"AZURE_OPENAI_API_VERSION\"],\n",
    "    azure_deployment=os.environ[\"AZURE_OPENAI_CHAT_DEPLOYMENT_NAME\"],\n",
    ")\n",
    "\n",
    "\n",
    "code_prompt = PromptTemplate(\n",
    "    template=\"Write a very short {language} function that will {task}\",\n",
    "    input_variables=[\"language\", \"task\"]\n",
    ")\n",
    "\n",
    "code_chain = LLMChain(\n",
    "    llm=llm,\n",
    "    prompt=code_prompt\n",
    ")\n",
    "\n",
    "result = code_chain({\n",
    "    \"language\": \"python\",\n",
    "    \"task\": \"return a list of numbers\"\n",
    "})\n",
    "\n",
    "print(result[\"text\"])"
   ],
   "id": "initial_id",
   "outputs": [
    {
     "name": "stdout",
     "output_type": "stream",
     "text": [
      "Here's a very short Python function that returns a list of numbers:\n",
      "\n",
      "```python\n",
      "def get_numbers():\n",
      "    return [1, 2, 3, 4, 5]\n",
      "```\n",
      "\n",
      "In this example, the function `get_numbers()` returns a list `[1, 2, 3, 4, 5]`. You can modify this list to contain any numbers you want.\n"
     ]
    }
   ],
   "execution_count": 14
  },
  {
   "metadata": {
    "ExecuteTime": {
     "end_time": "2024-07-03T14:35:20.249966Z",
     "start_time": "2024-07-03T14:35:20.248434Z"
    }
   },
   "cell_type": "code",
   "source": "",
   "id": "a4e5edb5ff90eef3",
   "outputs": [],
   "execution_count": 14
  }
 ],
 "metadata": {
  "kernelspec": {
   "display_name": "Python 3",
   "language": "python",
   "name": "python3"
  },
  "language_info": {
   "codemirror_mode": {
    "name": "ipython",
    "version": 2
   },
   "file_extension": ".py",
   "mimetype": "text/x-python",
   "name": "python",
   "nbconvert_exporter": "python",
   "pygments_lexer": "ipython2",
   "version": "2.7.6"
  }
 },
 "nbformat": 4,
 "nbformat_minor": 5
}
