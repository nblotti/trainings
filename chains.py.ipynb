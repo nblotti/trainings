{
 "cells": [
  {
   "metadata": {
    "ExecuteTime": {
     "end_time": "2024-07-05T09:26:06.534361Z",
     "start_time": "2024-07-05T09:26:06.528327Z"
    }
   },
   "cell_type": "code",
   "source": [
    "from langchain_openai import AzureChatOpenAI\n",
    "from langchain.prompts import ChatPromptTemplate\n",
    "from langchain_core.output_parsers import StrOutputParser\n",
    "import os"
   ],
   "id": "e13de140e0e2ec95",
   "outputs": [],
   "execution_count": 98
  },
  {
   "metadata": {
    "ExecuteTime": {
     "end_time": "2024-07-05T09:26:08.297241Z",
     "start_time": "2024-07-05T09:26:08.293959Z"
    }
   },
   "cell_type": "code",
   "source": [
    "# SECURE THIS KEY!\n",
    "os.environ[\"AZURE_OPENAI_API_KEY\"] = \"\"\n",
    "os.environ[\"AZURE_OPENAI_ENDPOINT\"] = \"https://azqoreai.openai.azure.com/\"\n",
    "os.environ[\"AZURE_OPENAI_CHAT_DEPLOYMENT_NAME\"] = \"gpt-35-turbo-16k_azqore_ai\"\n",
    "os.environ[\"AZURE_OPENAI_API_VERSION\"] = \"2024-02-01\""
   ],
   "id": "f88ec88033e14379",
   "outputs": [],
   "execution_count": 99
  },
  {
   "metadata": {
    "ExecuteTime": {
     "end_time": "2024-07-05T09:29:45.016485Z",
     "start_time": "2024-07-05T09:29:41.072912Z"
    }
   },
   "cell_type": "code",
   "source": [
    "\n",
    "\n",
    "\n",
    "model = AzureChatOpenAI(\n",
    "    openai_api_version=os.environ[\"AZURE_OPENAI_API_VERSION\"],\n",
    "    azure_deployment=os.environ[\"AZURE_OPENAI_CHAT_DEPLOYMENT_NAME\"],\n",
    ")\n",
    "\n",
    "code_prompt_template = ChatPromptTemplate.from_messages([\n",
    "    (\"system\", \"Your are a software developer specialized in {language} \"),\n",
    "    (\"human\", \"Write a very short function that will {task}. Make sure the code compiles !\")\n",
    "])\n",
    "\n",
    "\n",
    "output_parser= StrOutputParser()\n",
    "\n",
    "chain = code_prompt_template | model |output_parser\n",
    "chain.invoke({\n",
    "    \"language\": \"python\",\n",
    "    \"task\": \"return a fibonacci sequence using recursion\",\n",
    "})\n",
    "\n"
   ],
   "id": "79a64830eabe230b",
   "outputs": [
    {
     "data": {
      "text/plain": [
       "'Here is a short function that returns a Fibonacci sequence using recursion in Python:\\n\\n```python\\ndef fibonacci(n):\\n    if n <= 1:\\n        return n\\n    else:\\n        return fibonacci(n-1) + fibonacci(n-2)\\n```\\n\\nIn this code, the base case is when `n` is less than or equal to 1, where we simply return `n`. For any other value of `n`, we recursively call the `fibonacci` function with `n-1` and `n-2`, and return the sum of the two recursive calls.\\n\\nTo use this function, simply call it with the desired index of the Fibonacci sequence:\\n\\n```python\\nprint(fibonacci(5))  # Output: 5\\nprint(fibonacci(10))  # Output: 55\\nprint(fibonacci(15))  # Output: 610\\n```\\n\\nNote that since this implementation uses recursion, it may become inefficient for large values of `n` due to repeated calculations. To optimize it, you can use memoization or dynamic programming techniques.'"
      ]
     },
     "execution_count": 106,
     "metadata": {},
     "output_type": "execute_result"
    }
   ],
   "execution_count": 106
  },
  {
   "metadata": {
    "ExecuteTime": {
     "end_time": "2024-07-05T09:30:04.250088Z",
     "start_time": "2024-07-05T09:30:04.247304Z"
    }
   },
   "cell_type": "code",
   "source": [
    "schema_representation = code_prompt_template.input_schema.schema()\n",
    "print(schema_representation)"
   ],
   "id": "a4e5edb5ff90eef3",
   "outputs": [
    {
     "name": "stdout",
     "output_type": "stream",
     "text": [
      "{'title': 'PromptInput', 'type': 'object', 'properties': {'language': {'title': 'Language', 'type': 'string'}, 'task': {'title': 'Task', 'type': 'string'}}}\n"
     ]
    }
   ],
   "execution_count": 107
  },
  {
   "metadata": {},
   "cell_type": "code",
   "source": "",
   "id": "ab572cd7aaab6f01",
   "outputs": [],
   "execution_count": null
  }
 ],
 "metadata": {
  "kernelspec": {
   "display_name": "Python 3",
   "language": "python",
   "name": "python3"
  },
  "language_info": {
   "codemirror_mode": {
    "name": "ipython",
    "version": 2
   },
   "file_extension": ".py",
   "mimetype": "text/x-python",
   "name": "python",
   "nbconvert_exporter": "python",
   "pygments_lexer": "ipython2",
   "version": "2.7.6"
  }
 },
 "nbformat": 4,
 "nbformat_minor": 5
}
