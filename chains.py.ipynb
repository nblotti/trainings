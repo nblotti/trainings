{
 "cells": [
  {
   "metadata": {},
   "cell_type": "code",
   "outputs": [],
   "execution_count": null,
   "source": [
    "from langchain_openai import AzureChatOpenAI\n",
    "from langchain.prompts import PromptTemplate\n",
    "from langchain_core.output_parsers import StrOutputParser\n",
    "import os"
   ],
   "id": "e13de140e0e2ec95"
  },
  {
   "metadata": {
    "ExecuteTime": {
     "end_time": "2024-07-04T15:09:38.789459Z",
     "start_time": "2024-07-04T15:09:38.786987Z"
    }
   },
   "cell_type": "code",
   "source": [
    "# SECURE THIS KEY!\n",
    "os.environ[\"AZURE_OPENAI_API_KEY\"] = \"a0a751ccca4f4f04a577f7e780917aae\"\n",
    "os.environ[\"AZURE_OPENAI_ENDPOINT\"] = \"https://azqoreai.openai.azure.com/\"\n",
    "os.environ[\"AZURE_OPENAI_CHAT_DEPLOYMENT_NAME\"] = \"gpt-35-turbo-16k_azqore_ai\"\n",
    "os.environ[\"AZURE_OPENAI_API_VERSION\"] = \"2024-02-01\""
   ],
   "id": "f88ec88033e14379",
   "outputs": [],
   "execution_count": 30
  },
  {
   "metadata": {},
   "cell_type": "code",
   "outputs": [],
   "execution_count": null,
   "source": "",
   "id": "4e10dec4fe397270"
  },
  {
   "metadata": {},
   "cell_type": "code",
   "outputs": [
    {
     "data": {
      "text/plain": [
       "'Here is a simple Python function that returns a list of numbers:\\n\\n```python\\ndef get_numbers():\\n    numbers = [1, 2, 3, 4, 5]\\n    return numbers\\n```\\n\\nYou can modify the `numbers` list to include any sequence of numbers you want.'"
      ]
     },
     "execution_count": 31,
     "metadata": {},
     "output_type": "execute_result"
    }
   ],
   "execution_count": 31,
   "source": [
    "\n",
    "model = AzureChatOpenAI(\n",
    "    openai_api_version=os.environ[\"AZURE_OPENAI_API_VERSION\"],\n",
    "    azure_deployment=os.environ[\"AZURE_OPENAI_CHAT_DEPLOYMENT_NAME\"],\n",
    ")\n",
    "\n",
    "\n",
    "code_prompt = PromptTemplate(\n",
    "    template=\"Write a very short {language} function that will {task}\"\n",
    ")\n",
    "\n",
    "output_parser= StrOutputParser()\n",
    "\n",
    "chain = code_prompt | model | output_parser\n",
    "chain.invoke({\n",
    "    \"language\": \"python\",\n",
    "    \"task\": \"return a list of numbers\"\n",
    "})\n"
   ],
   "id": "79a64830eabe230b"
  },
  {
   "metadata": {
    "ExecuteTime": {
     "end_time": "2024-07-04T15:36:59.625715Z",
     "start_time": "2024-07-04T15:36:59.623044Z"
    }
   },
   "cell_type": "code",
   "source": [
    "schema_representation = code_prompt.input_schema.schema()\n",
    "print(schema_representation)"
   ],
   "id": "a4e5edb5ff90eef3",
   "outputs": [
    {
     "name": "stdout",
     "output_type": "stream",
     "text": [
      "{'title': 'PromptInput', 'type': 'object', 'properties': {'language': {'title': 'Language', 'type': 'string'}, 'task': {'title': 'Task', 'type': 'string'}}}\n"
     ]
    }
   ],
   "execution_count": 36
  },
  {
   "metadata": {},
   "cell_type": "code",
   "outputs": [],
   "execution_count": null,
   "source": "",
   "id": "ab572cd7aaab6f01"
  }
 ],
 "metadata": {
  "kernelspec": {
   "display_name": "Python 3",
   "language": "python",
   "name": "python3"
  },
  "language_info": {
   "codemirror_mode": {
    "name": "ipython",
    "version": 2
   },
   "file_extension": ".py",
   "mimetype": "text/x-python",
   "name": "python",
   "nbconvert_exporter": "python",
   "pygments_lexer": "ipython2",
   "version": "2.7.6"
  }
 },
 "nbformat": 4,
 "nbformat_minor": 5
}
