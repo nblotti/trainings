{
 "cells": [
  {
   "cell_type": "code",
   "id": "initial_id",
   "metadata": {
    "collapsed": true,
    "ExecuteTime": {
     "end_time": "2024-07-05T06:42:34.012344Z",
     "start_time": "2024-07-05T06:42:34.009512Z"
    }
   },
   "source": [
    "from langchain_openai import AzureChatOpenAI\n",
    "from langchain.prompts import PromptTemplate\n",
    "from langchain.chains import create_retrieval_chain\n",
    "from langchain_core.output_parsers import StrOutputParser\n",
    "from langchain_community.retrievers import WikipediaRetriever\n",
    "from langchain.chains.combine_documents import create_stuff_documents_chain\n",
    "from langchain_core.runnables import RunnablePassthrough\n",
    "import os"
   ],
   "outputs": [],
   "execution_count": 45
  },
  {
   "metadata": {
    "ExecuteTime": {
     "end_time": "2024-07-05T05:52:45.493627Z",
     "start_time": "2024-07-05T05:52:45.487477Z"
    }
   },
   "cell_type": "code",
   "source": [
    "# SECURE THIS KEY!\n",
    "os.environ[\"AZURE_OPENAI_API_KEY\"] = \"\"\n",
    "os.environ[\"AZURE_OPENAI_ENDPOINT\"] = \"https://azqoreai.openai.azure.com/\"\n",
    "os.environ[\"AZURE_OPENAI_CHAT_DEPLOYMENT_NAME\"] = \"gpt-35-turbo-16k_azqore_ai\"\n",
    "os.environ[\"AZURE_OPENAI_API_VERSION\"] = \"2024-02-01\""
   ],
   "id": "487e5705104a3712",
   "outputs": [],
   "execution_count": 7
  },
  {
   "metadata": {
    "ExecuteTime": {
     "end_time": "2024-07-05T06:35:58.785345Z",
     "start_time": "2024-07-05T06:35:58.738274Z"
    }
   },
   "cell_type": "code",
   "source": [
    "model = AzureChatOpenAI(\n",
    "    openai_api_version=os.environ[\"AZURE_OPENAI_API_VERSION\"],\n",
    "    azure_deployment=os.environ[\"AZURE_OPENAI_CHAT_DEPLOYMENT_NAME\"],\n",
    ")\n",
    "output_parser= StrOutputParser()\n",
    "\n",
    "#this retriever (more on this later) let us access Wikipedia\n",
    "retriever = WikipediaRetriever()"
   ],
   "id": "38f2cc8941c7d6b9",
   "outputs": [],
   "execution_count": 41
  },
  {
   "metadata": {
    "ExecuteTime": {
     "end_time": "2024-07-05T06:31:19.260246Z",
     "start_time": "2024-07-05T06:31:08.387613Z"
    }
   },
   "cell_type": "code",
   "source": [
    "\n",
    "prompt = PromptTemplate(\n",
    "    template=\"Create a summary in 10 lines about this topic {input} using only the data provided here : {context}\"\n",
    ")\n",
    "\n",
    "\n",
    "#this chain will invoke the llm passing the documents retrieved from from wikipedia as input in the \"context\" variable\n",
    "llm_chain = create_stuff_documents_chain(model, prompt)\n",
    "\n",
    "#this chain will invoke the wikipedia retriever then pass the result to llm_chain\n",
    "chain = create_retrieval_chain(retriever, llm_chain)\n",
    "\n",
    "\n",
    "output = chain.invoke({\n",
    "    \"input\": \"euro 2024\",\n",
    "})\n",
    "output_parser.invoke(output['answer'])\n",
    "\n"
   ],
   "id": "2adf15f9b11d7ca3",
   "outputs": [
    {
     "data": {
      "text/plain": [
       "\"UEFA Euro 2024 is the 17th edition of the European Championship for men's national teams, organized by UEFA. It is being hosted by Germany from 14 June to 14 July 2024. The tournament features 24 teams, with Georgia making their debut in the finals. This is the third time matches are played on German territory and the first time in what was formerly East Germany. Germany is serving as the sole host nation for the first time since the 2006 FIFA World Cup. The tournament returned to its four-year cycle after being postponed in 2020 due to the COVID-19 pandemic. Italy, the defending champions, were eliminated in the round of 16 by Switzerland. The tournament is being held in various stadiums across Germany, with Berlin hosting the final match. The qualifying tournament for Euro 2024 took place from March 2023 to March 2024, with the top two teams from each group and the four best third-placed teams joining Germany in the final tournament.\""
      ]
     },
     "execution_count": 34,
     "metadata": {},
     "output_type": "execute_result"
    }
   ],
   "execution_count": 34
  },
  {
   "metadata": {
    "ExecuteTime": {
     "end_time": "2024-07-05T06:34:28.437743Z",
     "start_time": "2024-07-05T06:34:25.648628Z"
    }
   },
   "cell_type": "code",
   "source": [
    "\n",
    "prompt = PromptTemplate(\n",
    "    template=\"{input}\"\n",
    ")\n",
    "\n",
    "#this chain will invoke the llm passing the documents retrieved from from wikipedia as input in the \"context\" variable\n",
    "chain = create_retrieval_chain(retriever, prompt)\n",
    "\n",
    "output = chain.invoke({\n",
    "    \"input\": \"euro 2024\",\n",
    "})\n",
    "output[\"context\"]"
   ],
   "id": "cef4d525d495bea5",
   "outputs": [
    {
     "data": {
      "text/plain": [
       "[Document(metadata={'title': 'UEFA Euro 2024', 'summary': \"The 2024 UEFA European Football Championship, commonly referred to as UEFA Euro 2024 (stylised as UEFA EURO 2024), or simply Euro 2024, is the ongoing 17th edition of the UEFA European Championship, the quadrennial international football  championship organised by UEFA for the European men's national teams of its member associations. Germany is hosting the tournament, which is taking place from 14 June to 14 July 2024. The tournament comprises 24 teams, with Georgia being the only team making their European Championship finals debut. \\nIt is the third time that European Championship matches are played on German territory and the second time in reunified Germany, as West Germany hosted the tournament's 1988 edition, and four matches of the multi-national Euro 2020 were played in Munich. It is the first time the competition is held in what was formerly East Germany, with Leipzig as a host city, as well as the first major tournament since the 2006 FIFA World Cup that Germany serves as a solo host nation. The tournament returned to its usual four-year cycle after the 2020 edition was postponed to 2021 due to the COVID-19 pandemic.\\nItaly were the defending champions, having won the 2020 final against England on penalties, but were eliminated in the round of 16 by Switzerland.\", 'source': 'https://en.wikipedia.org/wiki/UEFA_Euro_2024'}, page_content='The 2024 UEFA European Football Championship, commonly referred to as UEFA Euro 2024 (stylised as UEFA EURO 2024), or simply Euro 2024, is the ongoing 17th edition of the UEFA European Championship, the quadrennial international football  championship organised by UEFA for the European men\\'s national teams of its member associations. Germany is hosting the tournament, which is taking place from 14 June to 14 July 2024. The tournament comprises 24 teams, with Georgia being the only team making their European Championship finals debut. \\nIt is the third time that European Championship matches are played on German territory and the second time in reunified Germany, as West Germany hosted the tournament\\'s 1988 edition, and four matches of the multi-national Euro 2020 were played in Munich. It is the first time the competition is held in what was formerly East Germany, with Leipzig as a host city, as well as the first major tournament since the 2006 FIFA World Cup that Germany serves as a solo host nation. The tournament returned to its usual four-year cycle after the 2020 edition was postponed to 2021 due to the COVID-19 pandemic.\\nItaly were the defending champions, having won the 2020 final against England on penalties, but were eliminated in the round of 16 by Switzerland.\\n\\n\\n== Host selection ==\\n\\nOn 8 March 2017, UEFA announced that two countries, Germany and Turkey, had announced their intentions to host the tournament before the deadline of 3 March 2017.\\nThe host was chosen by the UEFA Executive Committee in a confidential ballot, needing only a simple majority of votes to win. If the votes were equal, the final decision rested with UEFA president Aleksander Čeferin. Out of the 20 members on the UEFA Executive Committee, Reinhard Grindel (Germany) and Servet Yardımcı (Turkey) could not vote because they were ineligible. Lars-Christer Olsson (Sweden) was also absent due to illness. In total, 17 members were able to vote.\\nThe host was selected on 27 September 2018 in Nyon, Switzerland. Germany initially planned to fully host Euro 2020, although had not announced any firm interest by May 2012.\\n\\n\\n== Venues ==\\nGermany had a wide choice of stadiums that satisfied UEFA\\'s minimum capacity requirement of 30,000 seats for European Championship matches.\\nOf the ten venues selected for Euro 2024, nine were used for the 2006 FIFA World Cup: Berlin, Dortmund, Munich, Cologne, Stuttgart, Hamburg, Leipzig, Frankfurt, and Gelsenkirchen. Düsseldorf, which was not used in 2006 but had previously been used for the 1974 FIFA World Cup and UEFA Euro 1988, will serve as the tenth venue; conversely, Hanover, Nuremberg and Kaiserslautern, host cities in 2006 (in addition to 1974 and 1988 in Hanover\\'s case), will not be used for this championship. Munich, the site of the first game of UEFA Euro 2024, was also a host city at the multi-national UEFA Euro 2020 tournament, hosting four matches (three involving Germany) in front of a greatly reduced number of spectators due to COVID-19 restrictions.\\nVarious other stadiums, such as those in Bremen and Mönchengladbach, were not selected. The area with the highest number of venues at UEFA Euro 2024 is the Rhine-Ruhr metropolitan region in the state of North Rhine-Westphalia, with four of the ten host cities (Dortmund, Düsseldorf, Gelsenkirchen and Cologne).\\n\\n\\n=== Team base camps ===\\nEach team chose a \"team base camp\" for its stay between the matches. The teams will train and reside in these locations throughout the tournament, travelling to games staged away from their bases. The \"team base camp\" needs to be in Germany.\\n\\n\\n=== Ticketing ===\\nTickets for the venues were sold directly by UEFA via its website, or distributed by the football associations of the 24 finalists. Ticket sales started on 3 October 2023.  More than 80% of 2.7 million tickets for the 51 tournament matches were available for the fans of the participating teams and the general public. Fans of each participating team allocated 10,000 tickets for'),\n",
       " Document(metadata={'title': 'UEFA Euro 2024 knockout stage', 'summary': 'The knockout stage of UEFA Euro 2024 began on 29 June 2024 with the round of 16 and will end on 14 July 2024 with the final at Olympiastadion in Berlin, Germany.\\nAll times listed are Central European Summer Time (UTC+2)\\n\\n', 'source': 'https://en.wikipedia.org/wiki/UEFA_Euro_2024_knockout_stage'}, page_content='The knockout stage of UEFA Euro 2024 began on 29 June 2024 with the round of 16 and will end on 14 July 2024 with the final at Olympiastadion in Berlin, Germany.\\nAll times listed are Central European Summer Time (UTC+2)\\n\\n\\n== Format ==\\nIn the knockout stage, if a match is level at the end of normal playing time, extra time is played (two periods of 15 minutes each). If still tied after extra time, the match is decided by a penalty shoot-out.\\nUEFA set out the following schedule for the round of 16:\\n\\nMatch 1: Winner Group B vs 3rd Group A/D/E/F\\nMatch 2: Winner Group A vs Runner-up Group C\\nMatch 3: Winner Group F vs 3rd Group A/B/C\\nMatch 4: Runner-up Group D vs Runner-up Group E\\nMatch 5: Winner Group E vs 3rd Group A/B/C/D\\nMatch 6: Winner Group D vs Runner-up Group F\\nMatch 7: Winner Group C vs 3rd Group D/E/F\\nMatch 8: Runner-up Group A vs Runner-up Group B\\nAs with every tournament since UEFA Euro 1984, there will be no third place play-off.\\n\\n\\n=== Combinations of matches in the round of 16 ===\\nThe specific match-ups involving the third-placed teams depended on which four third-placed teams qualified for the round of 16:\\n\\n\\n== Qualified teams ==\\nThe top two placed teams from each of the six groups, along with the four best-placed third teams, qualified for the knockout stage.\\n\\n\\n== Bracket ==\\n\\n\\n== Round of 16 ==\\n\\n\\n=== Switzerland vs Italy ===\\n\\n\\n=== Germany vs Denmark ===\\nThis was a rematch of the UEFA Euro 1992 final, which Denmark won 2–0.\\nIn the 35th minute, the match was suspended due to adverse weather conditions (thunderstorms and heavy rain) in the vicinity of the stadium. Play was suspended for about 25 minutes before resuming at 21:59.\\n\\n\\n=== England vs Slovakia ===\\n\\n\\n=== Spain vs Georgia ===\\n\\n\\n=== France vs Belgium ===\\n\\n\\n=== Portugal vs Slovenia ===\\n\\n\\n=== Romania vs Netherlands ===\\n\\n\\n=== Austria vs Turkey ===\\n\\n\\n== Quarter-finals ==\\n\\n\\n=== Spain vs Germany ===\\nThe sides previously met in the UEFA Euro 2008 final, which Spain won 1–0.\\n\\n\\n=== Portugal vs France ===\\nThe sides previously met in the UEFA Euro 2016 final, where Portugal prevailed against the hosts 1–0 on extra time.\\n\\n\\n=== England vs Switzerland ===\\n\\n\\n=== Netherlands vs Turkey ===\\n\\n\\n== Semi-finals ==\\n\\n\\n=== Winner Match 45 vs Winner Match 46 ===\\n\\n\\n=== Winner Match 47 vs Winner Match 48 ===\\n\\n\\n== Final ==\\n\\n\\n== References ==\\n\\n\\n== External links ==\\nOfficial website'),\n",
       " Document(metadata={'title': 'UEFA Euro 2024 qualifying', 'summary': \"The UEFA Euro 2024 qualifying tournament was a football competition that was played from March 2023 to March 2024 to determine the 23 UEFA member men's national teams that would join the automatically qualified host team Germany in the UEFA Euro 2024 final tournament. The competition was linked with the 2022–23 UEFA Nations League, which gave countries a secondary route to qualify for the final tournament.\\nA total of 53 UEFA member associations entered the qualifying process. The draw for the qualifying group stage took place at the Festhalle in Frankfurt on 9 October 2022.\", 'source': 'https://en.wikipedia.org/wiki/UEFA_Euro_2024_qualifying'}, page_content=\"The UEFA Euro 2024 qualifying tournament was a football competition that was played from March 2023 to March 2024 to determine the 23 UEFA member men's national teams that would join the automatically qualified host team Germany in the UEFA Euro 2024 final tournament. The competition was linked with the 2022–23 UEFA Nations League, which gave countries a secondary route to qualify for the final tournament.\\nA total of 53 UEFA member associations entered the qualifying process. The draw for the qualifying group stage took place at the Festhalle in Frankfurt on 9 October 2022.\\n\\n\\n== Qualified teams ==\\n\\n\\n== Format ==\\nThe format was similar to the UEFA Euro 2020 qualifying competition: the group stage decided 20 of the 23 teams that would advance to the final tournament to join host Germany. The 53 UEFA member associations were divided into ten groups, with seven groups containing five teams and three containing six teams. The draw for the qualifying group stage took place on 9 October 2022, after conclusion of the league phase of the 2022–23 UEFA Nations League. The four UEFA Nations League Finals participants were drawn into groups of five teams (so they were able to compete in the Nations League Finals in June 2023). The qualifying group stage was played in a home-and-away, round-robin format on double matchdays in March, June, September, October, and November 2023. The winners and runners-up from the ten groups qualified directly to the final tournament.\\nFollowing the qualifying group stage, the remaining three teams were decided through the play-offs, held in March 2024. Twelve teams were selected based entirely on their performance in the 2022–23 UEFA Nations League. These teams were divided into three paths, each containing four teams, with one team from each path qualifying for the final tournament. The group winners of Nations Leagues A, B, and C automatically qualified for the play-off path of their league, unless they qualified for the final tournament via the qualifying group stage. If a group winner had already qualified through the qualifying group stage, they would be replaced by the next best-ranked team in the same league. However, if there were not enough non-qualified teams in the same league, then the spot would go first to the best-ranked group winner of League D, unless that team had already qualified for the final tournament. The remaining slots were then allocated to the next best team in the Nations League overall ranking. However, group winners of Leagues B and C could not face teams from a higher league.\\nThe three play-off paths each featured two single-leg semi-finals, and one single-leg final. In the semi-finals, the best-ranked team hosted the lowest-ranked team, and the second-ranked team hosted the third-ranked team. The host of the final was drawn between the winners of the semi-final pairings. The three play-off path winners joined the twenty teams that already qualified for the final tournament through the group stage.\\n\\n\\n=== Tiebreakers for group ranking ===\\nIf two or more teams were equal on points on completion of the group matches, the following tie-breaking criteria were applied:\\n\\nHigher number of points obtained in the matches played among the teams in question;\\nSuperior goal difference in matches played among the teams in question;\\nHigher number of goals scored in the matches played among the teams in question;\\nIf, after having applied criteria 1 to 3, teams still had an equal ranking, criteria 1 to 3 were reapplied exclusively to the matches between the teams in question to determine their final rankings. If this procedure did not lead to a decision, criteria 5 to 11 applied;\\nSuperior goal difference in all group matches;\\nHigher number of goals scored in all group matches;\\nHigher number of away goals scored in all group matches;\\nHigher number of wins in all group matches;\\nHigher number of away wins in all group matches;\\nFair play conduct in all group matches (1 point for a single yellow card\")]"
      ]
     },
     "execution_count": 40,
     "metadata": {},
     "output_type": "execute_result"
    }
   ],
   "execution_count": 40
  },
  {
   "metadata": {
    "ExecuteTime": {
     "end_time": "2024-07-05T07:11:28.192643Z",
     "start_time": "2024-07-05T07:11:21.171575Z"
    }
   },
   "cell_type": "code",
   "source": [
    "from langchain_core.prompts import ChatPromptTemplate\n",
    "\n",
    "template=\"Create a summary in 10 lines about this topic {input} using only the data provided here : {context}\"\n",
    "\n",
    "prompt = ChatPromptTemplate.from_template(template)\n",
    "\n",
    "chain = (\n",
    "    {\"context\": retriever, \"input\": RunnablePassthrough()}\n",
    "    | prompt\n",
    "    | model\n",
    "    | output_parser\n",
    ")\n",
    "\n",
    "chain.invoke(\"euro 2024\")\n"
   ],
   "id": "21b9a988668d8347",
   "outputs": [
    {
     "data": {
      "text/plain": [
       "'The UEFA Euro 2024 is the ongoing 17th edition of the UEFA European Championship. It is being hosted by Germany and is taking place from 14 June to 14 July 2024. The tournament features 24 teams, with Georgia making their debut in the European Championship finals. This is the third time that European Championship matches are being played on German territory and the first time in what was formerly East Germany. The tournament returned to its usual four-year cycle after the 2020 edition was postponed due to the COVID-19 pandemic. Italy, the defending champions, were eliminated in the round of 16 by Switzerland. The knockout stage of the tournament began on 29 June 2024 and will end with the final on 14 July 2024 at Olympiastadion in Berlin. The qualifying tournament for Euro 2024 involved 53 UEFA member associations and was played from March 2023 to March 2024. The group stage determined 20 of the 23 teams that would join host Germany in the final tournament, while the remaining three teams were decided through play-offs.'"
      ]
     },
     "execution_count": 69,
     "metadata": {},
     "output_type": "execute_result"
    }
   ],
   "execution_count": 69
  },
  {
   "metadata": {},
   "cell_type": "code",
   "outputs": [],
   "execution_count": null,
   "source": "",
   "id": "e2b055a312a60e81"
  }
 ],
 "metadata": {
  "kernelspec": {
   "display_name": "Python 3",
   "language": "python",
   "name": "python3"
  },
  "language_info": {
   "codemirror_mode": {
    "name": "ipython",
    "version": 2
   },
   "file_extension": ".py",
   "mimetype": "text/x-python",
   "name": "python",
   "nbconvert_exporter": "python",
   "pygments_lexer": "ipython2",
   "version": "2.7.6"
  }
 },
 "nbformat": 4,
 "nbformat_minor": 5
}
