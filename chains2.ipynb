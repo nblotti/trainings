{
 "cells": [
  {
   "cell_type": "code",
   "id": "initial_id",
   "metadata": {
    "collapsed": true,
    "ExecuteTime": {
     "end_time": "2024-07-05T06:07:19.055522Z",
     "start_time": "2024-07-05T06:07:19.053020Z"
    }
   },
   "source": [
    "from langchain_openai import AzureChatOpenAI\n",
    "from langchain.prompts import PromptTemplate\n",
    "from langchain.chains import create_retrieval_chain\n",
    "from langchain_core.output_parsers import StrOutputParser\n",
    "from langchain_community.retrievers import WikipediaRetriever\n",
    "from langchain.chains.combine_documents import create_stuff_documents_chain\n",
    "import os"
   ],
   "outputs": [],
   "execution_count": 25
  },
  {
   "metadata": {
    "ExecuteTime": {
     "end_time": "2024-07-05T05:52:45.493627Z",
     "start_time": "2024-07-05T05:52:45.487477Z"
    }
   },
   "cell_type": "code",
   "source": [
    "# SECURE THIS KEY!\n",
    "os.environ[\"AZURE_OPENAI_API_KEY\"] = \"\"\n",
    "os.environ[\"AZURE_OPENAI_ENDPOINT\"] = \"https://azqoreai.openai.azure.com/\"\n",
    "os.environ[\"AZURE_OPENAI_CHAT_DEPLOYMENT_NAME\"] = \"gpt-35-turbo-16k_azqore_ai\"\n",
    "os.environ[\"AZURE_OPENAI_API_VERSION\"] = \"2024-02-01\""
   ],
   "id": "487e5705104a3712",
   "outputs": [],
   "execution_count": 7
  },
  {
   "metadata": {
    "ExecuteTime": {
     "end_time": "2024-07-05T06:12:18.537919Z",
     "start_time": "2024-07-05T06:12:00.400422Z"
    }
   },
   "cell_type": "code",
   "source": [
    "\n",
    "model = AzureChatOpenAI(\n",
    "    openai_api_version=os.environ[\"AZURE_OPENAI_API_VERSION\"],\n",
    "    azure_deployment=os.environ[\"AZURE_OPENAI_CHAT_DEPLOYMENT_NAME\"],\n",
    ")\n",
    "\n",
    "\n",
    "prompt = PromptTemplate(\n",
    "    template=\"Create a summary in 10 lines about this topic {input} using only the data provided here : {context}\"\n",
    ")\n",
    "\n",
    "output_parser= StrOutputParser()\n",
    "\n",
    "#this retriever (more on this later) let us access Wikipedia\n",
    "retriever = WikipediaRetriever()\n",
    "\n",
    "#this chain will invoke the llm passing the documents retrieved from from wikipedia as input in the \"context\" variable\n",
    "llm_chain = create_stuff_documents_chain(model, prompt)\n",
    "\n",
    "#this chain will invoke the wikipedia retriever then pass the result to llm_chain\n",
    "chain = create_retrieval_chain(retriever, llm_chain)\n",
    "\n",
    "\n",
    "output = chain.invoke({\n",
    "    \"input\": \"euro 2024\",\n",
    "})\n",
    "output_parser.invoke(output['answer'])\n",
    "\n"
   ],
   "id": "2adf15f9b11d7ca3",
   "outputs": [
    {
     "data": {
      "text/plain": [
       "\"The ongoing UEFA Euro 2024 is the 17th edition of the UEFA European Championship, organized by UEFA for European men's national teams. It is being hosted by Germany from 14 June to 14 July 2024. The tournament consists of 24 teams, with Georgia making their European Championship finals debut. This is the third time matches are played in Germany and the first time in former East Germany. It is also the first major tournament since the 2006 FIFA World Cup that Germany serves as a solo host nation. Italy, the defending champions, were eliminated in the round of 16 by Switzerland. The tournament's knockout stage began on 29 June 2024 and will end with the final on 14 July 2024 in Berlin. The qualifying tournament for Euro 2024 took place from March 2023 to March 2024, with 23 teams joining host Germany in the final tournament. The format was similar to Euro 2020 qualifying, with group stages and play-offs determining the qualified teams.\""
      ]
     },
     "execution_count": 30,
     "metadata": {},
     "output_type": "execute_result"
    }
   ],
   "execution_count": 30
  },
  {
   "metadata": {},
   "cell_type": "code",
   "outputs": [],
   "execution_count": null,
   "source": "",
   "id": "76498720180de942"
  }
 ],
 "metadata": {
  "kernelspec": {
   "display_name": "Python 3",
   "language": "python",
   "name": "python3"
  },
  "language_info": {
   "codemirror_mode": {
    "name": "ipython",
    "version": 2
   },
   "file_extension": ".py",
   "mimetype": "text/x-python",
   "name": "python",
   "nbconvert_exporter": "python",
   "pygments_lexer": "ipython2",
   "version": "2.7.6"
  }
 },
 "nbformat": 4,
 "nbformat_minor": 5
}
